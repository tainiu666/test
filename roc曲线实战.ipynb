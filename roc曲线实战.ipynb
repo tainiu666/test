{
 "cells": [
  {
   "cell_type": "code",
   "execution_count": 1,
   "id": "8eeee1a5-ae24-4271-9f8c-049dac141e66",
   "metadata": {},
   "outputs": [],
   "source": [
    "import pandas as pd\n",
    "from sklearn.metrics import roc_curve,auc\n",
    "import matplotlib.pyplot as plt"
   ]
  },
  {
   "cell_type": "code",
   "execution_count": 2,
   "id": "8eff2bc0-a016-40e4-811f-9a105b8edf3f",
   "metadata": {},
   "outputs": [
    {
     "data": {
      "text/html": [
       "<div>\n",
       "<style scoped>\n",
       "    .dataframe tbody tr th:only-of-type {\n",
       "        vertical-align: middle;\n",
       "    }\n",
       "\n",
       "    .dataframe tbody tr th {\n",
       "        vertical-align: top;\n",
       "    }\n",
       "\n",
       "    .dataframe thead th {\n",
       "        text-align: right;\n",
       "    }\n",
       "</style>\n",
       "<table border=\"1\" class=\"dataframe\">\n",
       "  <thead>\n",
       "    <tr style=\"text-align: right;\">\n",
       "      <th></th>\n",
       "      <th>真实标签</th>\n",
       "      <th>预测分数</th>\n",
       "    </tr>\n",
       "  </thead>\n",
       "  <tbody>\n",
       "    <tr>\n",
       "      <th>0</th>\n",
       "      <td>1</td>\n",
       "      <td>0.900</td>\n",
       "    </tr>\n",
       "    <tr>\n",
       "      <th>1</th>\n",
       "      <td>1</td>\n",
       "      <td>0.800</td>\n",
       "    </tr>\n",
       "    <tr>\n",
       "      <th>2</th>\n",
       "      <td>0</td>\n",
       "      <td>0.700</td>\n",
       "    </tr>\n",
       "    <tr>\n",
       "      <th>3</th>\n",
       "      <td>1</td>\n",
       "      <td>0.600</td>\n",
       "    </tr>\n",
       "    <tr>\n",
       "      <th>4</th>\n",
       "      <td>1</td>\n",
       "      <td>0.550</td>\n",
       "    </tr>\n",
       "    <tr>\n",
       "      <th>5</th>\n",
       "      <td>1</td>\n",
       "      <td>0.540</td>\n",
       "    </tr>\n",
       "    <tr>\n",
       "      <th>6</th>\n",
       "      <td>0</td>\n",
       "      <td>0.530</td>\n",
       "    </tr>\n",
       "    <tr>\n",
       "      <th>7</th>\n",
       "      <td>0</td>\n",
       "      <td>0.520</td>\n",
       "    </tr>\n",
       "    <tr>\n",
       "      <th>8</th>\n",
       "      <td>1</td>\n",
       "      <td>0.510</td>\n",
       "    </tr>\n",
       "    <tr>\n",
       "      <th>9</th>\n",
       "      <td>0</td>\n",
       "      <td>0.505</td>\n",
       "    </tr>\n",
       "  </tbody>\n",
       "</table>\n",
       "</div>"
      ],
      "text/plain": [
       "   真实标签   预测分数\n",
       "0     1  0.900\n",
       "1     1  0.800\n",
       "2     0  0.700\n",
       "3     1  0.600\n",
       "4     1  0.550\n",
       "5     1  0.540\n",
       "6     0  0.530\n",
       "7     0  0.520\n",
       "8     1  0.510\n",
       "9     0  0.505"
      ]
     },
     "execution_count": 2,
     "metadata": {},
     "output_type": "execute_result"
    }
   ],
   "source": [
    "#创建DataFrame\n",
    "data={\n",
    "    '真实标签':[1, 1, 0, 1, 1, 1, 0, 0, 1, 0, 1, 0, 1, 0, 0, 0, 1, 0, 1, 0],\n",
    "    '预测分数':[0.9, 0.8, 0.7, 0.6, 0.55, 0.54, 0.53, 0.52, 0.51, 0.505, 0.4, 0.39, 0.38, 0.37, 0.36, 0.35, 0.34, 0.33, 0.30, 0.1]\n",
    "}\n",
    "df=pd.DataFrame(data)\n",
    "df.head(10)"
   ]
  },
  {
   "cell_type": "code",
   "execution_count": 3,
   "id": "a986b8d1-764d-4ac6-bc1c-e44634763e45",
   "metadata": {},
   "outputs": [],
   "source": [
    "#按照预测分数降序排序\n",
    "df_sorted=df.sort_values(by='预测分数',ascending=False)\n",
    "\n",
    "#计算累积的真正例和假证例\n",
    "cumulative_tp=df_sorted['真实标签'].cumsum()\n",
    "cumulative_fp=(1-df_sorted['真实标签']).cumsum()\n",
    "#计算总的真正例和假证例\n",
    "total_tp=cumulative_tp.iloc[-1]\n",
    "total_fp=cumulative_fp.iloc[-1]\n",
    "\n",
    "#计算FPR和TPR\n",
    "fpr=cumulative_fp/total_fp\n",
    "tpr=cumulative_tp/total_tp\n",
    "\n",
    "#计算AUC值\n",
    "roc_auc=auc(fpr,tpr)"
   ]
  },
  {
   "cell_type": "code",
   "execution_count": 4,
   "id": "7a0ec18b-ef10-4c4d-a1a1-087ef75044c6",
   "metadata": {},
   "outputs": [
    {
     "data": {
      "image/png": "[encoded data removed]",
      "text/plain": [
       "<Figure size 576x432 with 1 Axes>"
      ]
     },
     "metadata": {
      "needs_background": "light"
     },
     "output_type": "display_data"
    }
   ],
   "source": [
    "#绘制ROC曲线\n",
    "plt.figure(figsize=(8,6))\n",
    "plt.plot(fpr,tpr,color='darkorange',lw=2,label='ROC curve(area=%0.2f)'%roc_auc)\n",
    "plt.plot([0,1],[0,1],color='navy',lw=2,linestyle='--')\n",
    "plt.xlim([0.0,1.0])\n",
    "plt.ylim([0.0,1.05])\n",
    "plt.xlabel('False Positive Rate')\n",
    "plt.ylabel('True Positive Rate')\n",
    "plt.title('Receiver Operating Charcteristic')\n",
    "plt.legend(loc=\"lower right\")\n",
    "plt.show()"
   ]
  },
  {
   "cell_type": "code",
   "execution_count": null,
   "id": "1564e428-2484-4b18-b1f9-a2864c056160",
   "metadata": {},
   "outputs": [],
   "source": [
    "from sklearn.datasets import load_iris\n",
    "from sklearn.model_setlection import KFold,cross_val_score\n",
    "from sklearn.ensemble import RandomForestClassifier\n",
    "\n",
    "#加载数据集 def load_data()\n",
    "iris=load_iris()\n",
    "X=iris.data\n",
    "y=iris.target\n",
    "\n",
    "#初始化随机森林分类器 def load_model()\n",
    "classifier=RandomForestClassifier(n_estimators=100,random_state=42)\n",
    "\n",
    "#初始化\n",
    "kf=KFold(n_splits=5,shuffle=True,random_state=42)\n",
    "\n",
    "scores=cross_val_score(classifier,X,y,cv=kf)\n",
    "\n",
    "print(f'每一折的得分：{scores}')\n",
    "print(f'平均得分：{scores.mean()}')\n",
    "\n",
    "import matplotlib.pyplot as plt\n",
    "\n",
    "folds=list(range(1,len(scores)+1))\n",
    "plt.figure(figsize=(8,6))\n",
    "plt.plot(fold,scores,marker='o')\n",
    "plt.xlabel('Folds')\n",
    "plt.ylabel('Accuracy')\n",
    "plt.title('K-Fold Cross-Validation Scores')\n",
    "plt.show()"
   ]
  },
  {
   "cell_type": "code",
   "execution_count": null,
   "id": "0ffba27d-9970-40af-8088-799f1202f9d7",
   "metadata": {},
   "outputs": [],
   "source": []
  },
  {
   "cell_type": "code",
   "execution_count": null,
   "id": "71e684c9-a732-4583-ae60-99d5f6fdf634",
   "metadata": {},
   "outputs": [],
   "source": []
  },
  {
   "cell_type": "code",
   "execution_count": null,
   "id": "ba89bb52-311b-44e1-a8e6-caeede65b62e",
   "metadata": {},
   "outputs": [],
   "source": []
  }
 ],
 "metadata": {
  "kernelspec": {
   "display_name": "Python 3 (ipykernel)",
   "language": "python",
   "name": "python3"
  },
  "language_info": {
   "codemirror_mode": {
    "name": "ipython",
    "version": 3
   },
   "file_extension": ".py",
   "mimetype": "text/x-python",
   "name": "python",
   "nbconvert_exporter": "python",
   "pygments_lexer": "ipython3",
   "version": "3.9.7"
  }
 },
 "nbformat": 4,
 "nbformat_minor": 5
}
