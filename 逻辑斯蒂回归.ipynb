{
 "cells": [
  {
   "cell_type": "code",
   "execution_count": 2,
   "id": "3b0df258-3ff4-46d8-b5e1-9a97c0f320ae",
   "metadata": {},
   "outputs": [],
   "source": [
    "from sklearn. datasets import load_breast_cancer \n",
    "from sklearn. model_selection import train_test_split \n",
    "from sklearn. linear_model import LogisticRegression\n",
    "from sklearn. metrics import classification_report, accuracy_score "
   ]
  },
  {
   "cell_type": "code",
   "execution_count": 5,
   "id": "95021e8f-3ad7-47e5-926a-ac66dfeadb89",
   "metadata": {},
   "outputs": [],
   "source": [
    "#加载sklearn自带的乳腺癌（分类）数据集\n",
    "X,y=load_breast_cancer(return_X_y=True)\n",
    "#自己探索数据集大小和列的情况"
   ]
  },
  {
   "cell_type": "markdown",
   "id": "65738834-5b5a-412c-aa9b-9124c6a252f7",
   "metadata": {},
   "source": [
    "# 划分训练集和测试集"
   ]
  },
  {
   "cell_type": "code",
   "execution_count": 6,
   "id": "e326da37-0ac6-4619-b0cf-daf355a7c889",
   "metadata": {},
   "outputs": [],
   "source": [
    "#以指定比例将数据集分为训练集和测试集\n",
    "X_train,X_test,y_train,y_test=train_test_split(\n",
    "    X,y,\n",
    "    train_size=0.875,test_size=0.125,random_state=188\n",
    ")"
   ]
  },
  {
   "cell_type": "markdown",
   "id": "6c2f8b31-32e2-45a1-a802-d2fd365e495b",
   "metadata": {},
   "source": [
    "# 创建逻辑斯蒂回归模型训练"
   ]
  },
  {
   "cell_type": "code",
   "execution_count": 9,
   "id": "a74ed488-f2dc-4990-a282-7b6bc851e890",
   "metadata": {},
   "outputs": [
    {
     "data": {
      "text/plain": [
       "LogisticRegression(max_iter=3000, multi_class='ovr')"
      ]
     },
     "execution_count": 9,
     "metadata": {},
     "output_type": "execute_result"
    }
   ],
   "source": [
    "#使用lr类，初始化模型\n",
    "clf=LogisticRegression(\n",
    "    penalty=\"l2\",C=1.0,random_state=None,solver=\"lbfgs\",max_iter=3000,\n",
    "    multi_class='ovr',verbose=0,\n",
    ")\n",
    "#使用训练数据来拟合\n",
    "clf.fit(X_train,y_train)"
   ]
  },
  {
   "cell_type": "markdown",
   "id": "5a2030db-243b-4e19-a004-c64b544510f9",
   "metadata": {},
   "source": [
    "# 使用测试数据进行预测"
   ]
  },
  {
   "cell_type": "code",
   "execution_count": 12,
   "id": "326ef04b-21e7-45fd-818b-eb1059abefcf",
   "metadata": {},
   "outputs": [],
   "source": [
    "#使用测试数据来预测，返回值预测分类数据\n",
    "y_pred=clf.predict(X_test)"
   ]
  },
  {
   "cell_type": "markdown",
   "id": "8e536580-8ecb-41f1-91a1-271688d34d33",
   "metadata": {},
   "source": [
    "# 评估模型性能"
   ]
  },
  {
   "cell_type": "code",
   "execution_count": 15,
   "id": "ec017214-0dfa-44c3-b558-836ff0d349f3",
   "metadata": {},
   "outputs": [
    {
     "name": "stdout",
     "output_type": "stream",
     "text": [
      "--- report ---\n",
      "              precision    recall  f1-score   support\n",
      "\n",
      "           0       0.96      0.96      0.96        27\n",
      "           1       0.98      0.98      0.98        45\n",
      "\n",
      "    accuracy                           0.97        72\n",
      "   macro avg       0.97      0.97      0.97        72\n",
      "weighted avg       0.97      0.97      0.97        72\n",
      "\n",
      "--- params ---\n",
      "[[ 0.89960769  0.17888852 -0.30396602  0.02572356 -0.17667936 -0.19319243\n",
      "  -0.56543832 -0.30645813 -0.25374937 -0.02428212 -0.07407326  1.09546992\n",
      "   0.11108786 -0.10663238 -0.02759738  0.0854027  -0.03498365 -0.0387471\n",
      "  -0.03079349  0.01957814  0.26004763 -0.45621821 -0.07916768 -0.01658918\n",
      "  -0.36072651 -0.6348124  -1.54604075 -0.6192092  -0.72734147 -0.06821056]] [28.59968311]\n",
      "--- accuracy ---\n",
      "0.9722222222222222\n"
     ]
    }
   ],
   "source": [
    "#打印主要分类指标的文本报告\n",
    "print('--- report ---')\n",
    "print(classification_report(y_test,y_pred))\n",
    "\n",
    "#打印模型的参数\n",
    "print('--- params ---')\n",
    "print(clf.coef_,clf.intercept_)\n",
    "\n",
    "#打印准确率\n",
    "print('--- accuracy ---')\n",
    "print(accuracy_score(y_test,y_pred))"
   ]
  },
  {
   "cell_type": "code",
   "execution_count": 20,
   "id": "b14d0107-8c78-403e-94b2-c57ff7519468",
   "metadata": {},
   "outputs": [],
   "source": [
    "import os\n",
    "from zhipuai import ZhipuAI\n",
    "import base64"
   ]
  },
  {
   "cell_type": "code",
   "execution_count": 33,
   "id": "6f8a356e-74c6-4b5a-be6f-2307a9c5ff26",
   "metadata": {},
   "outputs": [],
   "source": [
    "os.environ[\"ZHIPUAI_API_KEY\"] = \"f28f99afec54ba87aef362f6a6407d3b.kWHsoEEitX2e2Ro5\"\n",
    "\n",
    "client = ZhipuAI()"
   ]
  },
  {
   "cell_type": "code",
   "execution_count": 34,
   "id": "12e21629-43ad-4c3c-9f42-6c7154e11b4f",
   "metadata": {},
   "outputs": [
    {
     "name": "stdout",
     "output_type": "stream",
     "text": [
      "通常来说，视频理解的响应时间较长，需要等待数十秒。。。\n"
     ]
    },
    {
     "ename": "APIRequestFailedError",
     "evalue": "Error code: 400, with error text {\"error\":{\"code\":\"1214\",\"message\":\"messages[0].content[0].video_url.url:不能为空\"}}",
     "output_type": "error",
     "traceback": [
      "\u001b[1;31m---------------------------------------------------------------------------\u001b[0m",
      "\u001b[1;31mAPIRequestFailedError\u001b[0m                     Traceback (most recent call last)",
      "\u001b[1;32m~\\AppData\\Local\\Temp/ipykernel_884/2807590346.py\u001b[0m in \u001b[0;36m<module>\u001b[1;34m\u001b[0m\n\u001b[0;32m      4\u001b[0m \u001b[0mprint\u001b[0m\u001b[1;33m(\u001b[0m\u001b[1;34m\"通常来说，视频理解的响应时间较长，需要等待数十秒。。。\"\u001b[0m\u001b[1;33m)\u001b[0m\u001b[1;33m\u001b[0m\u001b[1;33m\u001b[0m\u001b[0m\n\u001b[0;32m      5\u001b[0m \u001b[1;33m\u001b[0m\u001b[0m\n\u001b[1;32m----> 6\u001b[1;33m response = client.chat.completions.create(\n\u001b[0m\u001b[0;32m      7\u001b[0m     \u001b[0mmodel\u001b[0m\u001b[1;33m=\u001b[0m\u001b[1;34m\"glm-4v-plus\"\u001b[0m\u001b[1;33m,\u001b[0m\u001b[1;33m\u001b[0m\u001b[1;33m\u001b[0m\u001b[0m\n\u001b[0;32m      8\u001b[0m     \u001b[0mtemperature\u001b[0m\u001b[1;33m=\u001b[0m\u001b[1;36m0.0\u001b[0m\u001b[1;33m,\u001b[0m\u001b[1;33m\u001b[0m\u001b[1;33m\u001b[0m\u001b[0m\n",
      "\u001b[1;32mC:\\ProgramData\\Anaconda3\\lib\\site-packages\\zhipuai\\api_resource\\chat\\completions.py\u001b[0m in \u001b[0;36mcreate\u001b[1;34m(self, model, request_id, user_id, do_sample, stream, temperature, top_p, max_tokens, seed, messages, stop, sensitive_word_check, tools, tool_choice, meta, extra, extra_headers, extra_body, timeout)\u001b[0m\n\u001b[0;32m     92\u001b[0m             \u001b[1;34m\"extra\"\u001b[0m\u001b[1;33m:\u001b[0m \u001b[0mmaybe_transform\u001b[0m\u001b[1;33m(\u001b[0m\u001b[0mextra\u001b[0m\u001b[1;33m,\u001b[0m \u001b[0mcode_geex_params\u001b[0m\u001b[1;33m.\u001b[0m\u001b[0mCodeGeexExtra\u001b[0m\u001b[1;33m)\u001b[0m\u001b[1;33m,\u001b[0m\u001b[1;33m\u001b[0m\u001b[1;33m\u001b[0m\u001b[0m\n\u001b[0;32m     93\u001b[0m         })\n\u001b[1;32m---> 94\u001b[1;33m         return self._post(\n\u001b[0m\u001b[0;32m     95\u001b[0m             \u001b[1;34m\"/chat/completions\"\u001b[0m\u001b[1;33m,\u001b[0m\u001b[1;33m\u001b[0m\u001b[1;33m\u001b[0m\u001b[0m\n\u001b[0;32m     96\u001b[0m             \u001b[0mbody\u001b[0m\u001b[1;33m=\u001b[0m\u001b[0mbody\u001b[0m\u001b[1;33m,\u001b[0m\u001b[1;33m\u001b[0m\u001b[1;33m\u001b[0m\u001b[0m\n",
      "\u001b[1;32mC:\\ProgramData\\Anaconda3\\lib\\site-packages\\zhipuai\\core\\_http_client.py\u001b[0m in \u001b[0;36mpost\u001b[1;34m(self, path, cast_type, body, options, files, stream, stream_cls)\u001b[0m\n\u001b[0;32m    807\u001b[0m         )\n\u001b[0;32m    808\u001b[0m \u001b[1;33m\u001b[0m\u001b[0m\n\u001b[1;32m--> 809\u001b[1;33m         \u001b[1;32mreturn\u001b[0m \u001b[0mcast\u001b[0m\u001b[1;33m(\u001b[0m\u001b[0mResponseT\u001b[0m\u001b[1;33m,\u001b[0m \u001b[0mself\u001b[0m\u001b[1;33m.\u001b[0m\u001b[0mrequest\u001b[0m\u001b[1;33m(\u001b[0m\u001b[0mcast_type\u001b[0m\u001b[1;33m,\u001b[0m \u001b[0mopts\u001b[0m\u001b[1;33m,\u001b[0m \u001b[0mstream\u001b[0m\u001b[1;33m=\u001b[0m\u001b[0mstream\u001b[0m\u001b[1;33m,\u001b[0m \u001b[0mstream_cls\u001b[0m\u001b[1;33m=\u001b[0m\u001b[0mstream_cls\u001b[0m\u001b[1;33m)\u001b[0m\u001b[1;33m)\u001b[0m\u001b[1;33m\u001b[0m\u001b[1;33m\u001b[0m\u001b[0m\n\u001b[0m\u001b[0;32m    810\u001b[0m \u001b[1;33m\u001b[0m\u001b[0m\n\u001b[0;32m    811\u001b[0m     def patch(\n",
      "\u001b[1;32mC:\\ProgramData\\Anaconda3\\lib\\site-packages\\zhipuai\\core\\_http_client.py\u001b[0m in \u001b[0;36mrequest\u001b[1;34m(self, cast_type, options, remaining_retries, stream, stream_cls)\u001b[0m\n\u001b[0;32m    493\u001b[0m             \u001b[0mstream_cls\u001b[0m\u001b[1;33m:\u001b[0m \u001b[0mType\u001b[0m\u001b[1;33m[\u001b[0m\u001b[0mStreamResponse\u001b[0m\u001b[1;33m]\u001b[0m \u001b[1;33m|\u001b[0m \u001b[1;32mNone\u001b[0m \u001b[1;33m=\u001b[0m \u001b[1;32mNone\u001b[0m\u001b[1;33m,\u001b[0m\u001b[1;33m\u001b[0m\u001b[1;33m\u001b[0m\u001b[0m\n\u001b[0;32m    494\u001b[0m     ) -> ResponseT | StreamResponse:\n\u001b[1;32m--> 495\u001b[1;33m         return self._request(\n\u001b[0m\u001b[0;32m    496\u001b[0m             \u001b[0mcast_type\u001b[0m\u001b[1;33m=\u001b[0m\u001b[0mcast_type\u001b[0m\u001b[1;33m,\u001b[0m\u001b[1;33m\u001b[0m\u001b[1;33m\u001b[0m\u001b[0m\n\u001b[0;32m    497\u001b[0m             \u001b[0moptions\u001b[0m\u001b[1;33m=\u001b[0m\u001b[0moptions\u001b[0m\u001b[1;33m,\u001b[0m\u001b[1;33m\u001b[0m\u001b[1;33m\u001b[0m\u001b[0m\n",
      "\u001b[1;32mC:\\ProgramData\\Anaconda3\\lib\\site-packages\\zhipuai\\core\\_http_client.py\u001b[0m in \u001b[0;36m_request\u001b[1;34m(self, cast_type, options, remaining_retries, stream, stream_cls)\u001b[0m\n\u001b[0;32m    580\u001b[0m \u001b[1;33m\u001b[0m\u001b[0m\n\u001b[0;32m    581\u001b[0m             \u001b[0mlog\u001b[0m\u001b[1;33m.\u001b[0m\u001b[0mdebug\u001b[0m\u001b[1;33m(\u001b[0m\u001b[1;34m\"Re-raising status error\"\u001b[0m\u001b[1;33m)\u001b[0m\u001b[1;33m\u001b[0m\u001b[1;33m\u001b[0m\u001b[0m\n\u001b[1;32m--> 582\u001b[1;33m             \u001b[1;32mraise\u001b[0m \u001b[0mself\u001b[0m\u001b[1;33m.\u001b[0m\u001b[0m_make_status_error\u001b[0m\u001b[1;33m(\u001b[0m\u001b[0merr\u001b[0m\u001b[1;33m.\u001b[0m\u001b[0mresponse\u001b[0m\u001b[1;33m)\u001b[0m \u001b[1;32mfrom\u001b[0m \u001b[1;32mNone\u001b[0m\u001b[1;33m\u001b[0m\u001b[1;33m\u001b[0m\u001b[0m\n\u001b[0m\u001b[0;32m    583\u001b[0m \u001b[1;33m\u001b[0m\u001b[0m\n\u001b[0;32m    584\u001b[0m         \u001b[1;31m# return self._parse_response(\u001b[0m\u001b[1;33m\u001b[0m\u001b[1;33m\u001b[0m\u001b[0m\n",
      "\u001b[1;31mAPIRequestFailedError\u001b[0m: Error code: 400, with error text {\"error\":{\"code\":\"1214\",\"message\":\"messages[0].content[0].video_url.url:不能为空\"}}"
     ]
    }
   ],
   "source": [
    "video_path = \"123.mp4\"\n",
    "with open(video_path, 'rb') as video_file:\n",
    "    video_base = base64.b64encode(video_file.read()).decode(\"utf-8\")\n",
    "print(\"通常来说，视频理解的响应时间较长，需要等待数十秒。。。\")\n",
    "      \n",
    "response = client.chat.completions.create(\n",
    "    model=\"glm-4v-plus\",\n",
    "    temperature=0.0,\n",
    "    top_p=0,\n",
    "    \n",
    "    messages=[{\n",
    "        \"role\":\"user\",\n",
    "        \"content\":[{\n",
    "        \"type\":\"video_url\",\n",
    "        \"video_url\":{\"url\":video_base}\n",
    "    },{\n",
    "        \"type\":\"text\",\n",
    "        \"text\":\"请仔细,,,\"\n",
    "    }]\n",
    "    }]\n",
    ")\n",
    "print(response.choices[0].message)"
   ]
  },
  {
   "cell_type": "code",
   "execution_count": null,
   "id": "ec0f4fc7-94f0-4f44-8396-ee662d4d9981",
   "metadata": {},
   "outputs": [],
   "source": []
  }
 ],
 "metadata": {
  "kernelspec": {
   "display_name": "Python 3 (ipykernel)",
   "language": "python",
   "name": "python3"
  },
  "language_info": {
   "codemirror_mode": {
    "name": "ipython",
    "version": 3
   },
   "file_extension": ".py",
   "mimetype": "text/x-python",
   "name": "python",
   "nbconvert_exporter": "python",
   "pygments_lexer": "ipython3",
   "version": "3.9.7"
  }
 },
 "nbformat": 4,
 "nbformat_minor": 5
}
