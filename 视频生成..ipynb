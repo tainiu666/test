{
 "cells": [
  {
   "cell_type": "code",
   "execution_count": 3,
   "id": "ff043b83-15f2-48c0-bf5b-18a84cfe769d",
   "metadata": {
    "tags": []
   },
   "outputs": [
    {
     "name": "stdout",
     "output_type": "stream",
     "text": [
      "VideoObject(id='84311732092992900-9221298701026787094', model='cogvideox', video_result=None, task_status='PROCESSING', request_id='-9221298701026787095')\n"
     ]
    }
   ],
   "source": [
    "from zhipuai import ZhipuAI\n",
    "client =ZhipuAI(api_key='f28f99afec54ba87aef362f6a6407d3b.kWHsoEEitX2e2Ro5')\n",
    "\n",
    "response=client.videos.generations(\n",
    "    model='cogvideox',\n",
    "    prompt='有一只鸡（主体），它正在打篮球'\n",
    ")\n",
    "print(response)"
   ]
  },
  {
   "cell_type": "code",
   "execution_count": 1,
   "id": "b8913e60-15dd-4e37-bc9b-6997a09ea3c2",
   "metadata": {
    "tags": []
   },
   "outputs": [
    {
     "name": "stdout",
     "output_type": "stream",
     "text": [
      "Looking in indexes: https://mirrors.cloud.tencent.com/pypi/simpleNote: you may need to restart the kernel to use updated packages.\n",
      "\n",
      "Collecting zhipuai\n",
      "  Downloading https://mirrors.cloud.tencent.com/pypi/packages/10/28/5c1efbfb560e64458b22e0442279af8bde673edcb096762a3aeccee3a8ec/zhipuai-2.1.5.20230904-py3-none-any.whl (104 kB)\n",
      "     ---------------------------------------- 0.0/105.0 kB ? eta -:--:--\n",
      "     -------------------------- ------------ 71.7/105.0 kB 2.0 MB/s eta 0:00:01\n",
      "     -------------------------------------- 105.0/105.0 kB 2.0 MB/s eta 0:00:00\n",
      "Requirement already satisfied: cachetools>=4.2.2 in e:\\anaconda\\lib\\site-packages (from zhipuai) (4.2.2)\n",
      "Requirement already satisfied: httpx>=0.23.0 in e:\\anaconda\\lib\\site-packages (from zhipuai) (0.26.0)\n",
      "Requirement already satisfied: pydantic<3.0,>=1.9.0 in e:\\anaconda\\lib\\site-packages (from zhipuai) (1.10.12)\n",
      "Collecting pydantic-core>=2.14.6 (from zhipuai)\n",
      "  Downloading https://mirrors.cloud.tencent.com/pypi/packages/ea/48/a30c67d62b8f39095edc3dab6abe69225e8c57186f31cc59a1ab984ea8e6/pydantic_core-2.27.0-cp311-none-win_amd64.whl (2.0 MB)\n",
      "     ---------------------------------------- 0.0/2.0 MB ? eta -:--:--\n",
      "     - -------------------------------------- 0.1/2.0 MB 2.6 MB/s eta 0:00:01\n",
      "     ---- ----------------------------------- 0.2/2.0 MB 3.4 MB/s eta 0:00:01\n",
      "     -------- ------------------------------- 0.4/2.0 MB 4.1 MB/s eta 0:00:01\n",
      "     ------------ --------------------------- 0.6/2.0 MB 4.2 MB/s eta 0:00:01\n",
      "     --------------- ------------------------ 0.8/2.0 MB 4.5 MB/s eta 0:00:01\n",
      "     ------------------- -------------------- 1.0/2.0 MB 4.7 MB/s eta 0:00:01\n",
      "     -------------------- ------------------- 1.0/2.0 MB 4.6 MB/s eta 0:00:01\n",
      "     -------------------- ------------------- 1.0/2.0 MB 4.6 MB/s eta 0:00:01\n",
      "     --------------------- ------------------ 1.0/2.0 MB 3.3 MB/s eta 0:00:01\n",
      "     ---------------------- ----------------- 1.1/2.0 MB 3.2 MB/s eta 0:00:01\n",
      "     ------------------------- -------------- 1.2/2.0 MB 3.3 MB/s eta 0:00:01\n",
      "     ---------------------------- ----------- 1.4/2.0 MB 3.3 MB/s eta 0:00:01\n",
      "     -------------------------------- ------- 1.6/2.0 MB 3.5 MB/s eta 0:00:01\n",
      "     ------------------------------------ --- 1.8/2.0 MB 3.7 MB/s eta 0:00:01\n",
      "     ---------------------------------------  2.0/2.0 MB 3.8 MB/s eta 0:00:01\n",
      "     ---------------------------------------- 2.0/2.0 MB 3.7 MB/s eta 0:00:00\n",
      "Collecting pyjwt<2.9.0,>=2.8.0 (from zhipuai)\n",
      "  Downloading https://mirrors.cloud.tencent.com/pypi/packages/2b/4f/e04a8067c7c96c364cef7ef73906504e2f40d690811c021e1a1901473a19/PyJWT-2.8.0-py3-none-any.whl (22 kB)\n",
      "Requirement already satisfied: anyio in e:\\anaconda\\lib\\site-packages (from httpx>=0.23.0->zhipuai) (4.2.0)\n",
      "Requirement already satisfied: certifi in e:\\anaconda\\lib\\site-packages (from httpx>=0.23.0->zhipuai) (2024.6.2)\n",
      "Requirement already satisfied: httpcore==1.* in e:\\anaconda\\lib\\site-packages (from httpx>=0.23.0->zhipuai) (1.0.2)\n",
      "Requirement already satisfied: idna in e:\\anaconda\\lib\\site-packages (from httpx>=0.23.0->zhipuai) (3.4)\n",
      "Requirement already satisfied: sniffio in e:\\anaconda\\lib\\site-packages (from httpx>=0.23.0->zhipuai) (1.3.0)\n",
      "Requirement already satisfied: h11<0.15,>=0.13 in e:\\anaconda\\lib\\site-packages (from httpcore==1.*->httpx>=0.23.0->zhipuai) (0.14.0)\n",
      "Requirement already satisfied: typing-extensions>=4.2.0 in e:\\anaconda\\lib\\site-packages (from pydantic<3.0,>=1.9.0->zhipuai) (4.9.0)\n",
      "Installing collected packages: pyjwt, pydantic-core, zhipuai\n",
      "  Attempting uninstall: pyjwt\n",
      "    Found existing installation: PyJWT 2.4.0\n",
      "    Uninstalling PyJWT-2.4.0:\n",
      "      Successfully uninstalled PyJWT-2.4.0\n",
      "Successfully installed pydantic-core-2.27.0 pyjwt-2.8.0 zhipuai-2.1.5.20230904\n"
     ]
    }
   ],
   "source": [
    "pip install -i https://mirrors.cloud.tencent.com/pypi/simple zhipuai"
   ]
  },
  {
   "cell_type": "code",
   "execution_count": 17,
   "id": "4f3e8fb8-41f0-44c8-9079-ec6e4d42397b",
   "metadata": {
    "tags": []
   },
   "outputs": [
    {
     "name": "stdout",
     "output_type": "stream",
     "text": [
      "VideoObject(id=None, model='cogvideox', video_result=[VideoResult(url='https://aigc-files.bigmodel.cn/api/cogvideo/73e0b756-a7f0-11ef-a354-628f45da38f5_0.mp4', cover_image_url='https://aigc-files.bigmodel.cn/api/cogvideo/73e0b756-a7f0-11ef-a354-628f45da38f5_cover_0.jpeg')], task_status='SUCCESS', request_id='-9221298701026787095')\n"
     ]
    }
   ],
   "source": [
    "from zhipuai import ZhipuAI\n",
    "client =ZhipuAI(api_key='f28f99afec54ba87aef362f6a6407d3b.kWHsoEEitX2e2Ro5')\n",
    "\n",
    "response=client.videos.retrieve_videos_result(\n",
    "   id='84311732092992900-9221298701026787094'\n",
    ")\n",
    "print(response)"
   ]
  },
  {
   "cell_type": "code",
   "execution_count": null,
   "id": "8e99f9ea-1c33-40f0-b1c8-1f1be1026046",
   "metadata": {},
   "outputs": [],
   "source": []
  },
  {
   "cell_type": "code",
   "execution_count": null,
   "id": "cbed3f1c-69b2-4d18-8c6e-76d85810f8e2",
   "metadata": {},
   "outputs": [],
   "source": []
  }
 ],
 "metadata": {
  "kernelspec": {
   "display_name": "Python 3 (ipykernel)",
   "language": "python",
   "name": "python3"
  },
  "language_info": {
   "codemirror_mode": {
    "name": "ipython",
    "version": 3
   },
   "file_extension": ".py",
   "mimetype": "text/x-python",
   "name": "python",
   "nbconvert_exporter": "python",
   "pygments_lexer": "ipython3",
   "version": "3.11.7"
  }
 },
 "nbformat": 4,
 "nbformat_minor": 5
}
