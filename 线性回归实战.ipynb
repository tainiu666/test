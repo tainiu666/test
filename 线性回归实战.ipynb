{
 "cells": [
  {
   "cell_type": "code",
   "execution_count": 1,
   "id": "b2561dba-553f-4c07-9826-a2ba52d538fa",
   "metadata": {},
   "outputs": [],
   "source": [
    "import numpy as np\n",
    "from sklearn.linear_model import LinearRegression\n",
    "import matplotlib.pyplot as plt"
   ]
  },
  {
   "cell_type": "code",
   "execution_count": 2,
   "id": "ad5b3bf7-8e2c-4104-829f-9cf47213c265",
   "metadata": {},
   "outputs": [
    {
     "name": "stdout",
     "output_type": "stream",
     "text": [
      "斜率（权重）：6.997414262384324\n",
      "截距（偏置）：-9.581246597713744\n"
     ]
    }
   ],
   "source": [
    "X=np.array([[50],[70],[82],[101],[120]])\n",
    "y=np.array([300,500,610,702,800])\n",
    "model=LinearRegression()\n",
    "model.fit(X,y)\n",
    "slope=model.coef_\n",
    "intercept=model.intercept_\n",
    "print(f'斜率（权重）：{slope[0]}')\n",
    "print(f'截距（偏置）：{intercept}')"
   ]
  },
  {
   "cell_type": "code",
   "execution_count": 3,
   "id": "a99a1f44-800b-4b44-9de3-4b49de2ce369",
   "metadata": {},
   "outputs": [
    {
     "name": "stdout",
     "output_type": "stream",
     "text": [
      "预测的价格：\n",
      "340.28946652150245\n",
      "480.23775176918895\n",
      "564.2067229178008\n",
      "697.157593903103\n",
      "830.1084648884051\n"
     ]
    },
    {
     "data": {
      "image/png": "[encoded data removed]",
      "text/plain": [
       "<Figure size 432x288 with 1 Axes>"
      ]
     },
     "metadata": {
      "needs_background": "light"
     },
     "output_type": "display_data"
    }
   ],
   "source": [
    "predictions=model.predict(X)\n",
    "print('预测的价格：')\n",
    "for pred in predictions:\n",
    "    print(pred)\n",
    "plt.scatter(X, y, color='blue')\n",
    "plt.plot(X, predictions,color='red')\n",
    "plt.xlabel('Area(sq maters)')\n",
    "plt.ylabel('Accuracy')\n",
    "plt.title('House Price Predition')\n",
    "plt.show()"
   ]
  },
  {
   "cell_type": "code",
   "execution_count": null,
   "id": "7e4d67c2-3dc0-401c-bda5-297e8b0a0d80",
   "metadata": {},
   "outputs": [],
   "source": []
  },
  {
   "cell_type": "code",
   "execution_count": null,
   "id": "faf945ef-b0ef-411f-a87e-904195b3ef62",
   "metadata": {},
   "outputs": [],
   "source": []
  },
  {
   "cell_type": "code",
   "execution_count": null,
   "id": "4c04f29d-1c4d-431f-8989-cd10260467e4",
   "metadata": {},
   "outputs": [],
   "source": []
  },
  {
   "cell_type": "code",
   "execution_count": null,
   "id": "f9b429f4-786c-40d6-89c2-d1f3016dbbc0",
   "metadata": {},
   "outputs": [],
   "source": []
  }
 ],
 "metadata": {
  "kernelspec": {
   "display_name": "Python 3 (ipykernel)",
   "language": "python",
   "name": "python3"
  },
  "language_info": {
   "codemirror_mode": {
    "name": "ipython",
    "version": 3
   },
   "file_extension": ".py",
   "mimetype": "text/x-python",
   "name": "python",
   "nbconvert_exporter": "python",
   "pygments_lexer": "ipython3",
   "version": "3.9.7"
  }
 },
 "nbformat": 4,
 "nbformat_minor": 5
}
